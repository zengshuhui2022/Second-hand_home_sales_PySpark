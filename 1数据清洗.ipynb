{
 "cells": [
  {
   "cell_type": "code",
   "execution_count": 1,
   "id": "5cf6ec76",
   "metadata": {},
   "outputs": [],
   "source": [
    "from pyspark.sql.session import SparkSession\n",
    "import findspark\n",
    "findspark.init()\n",
    "from pyspark.sql.types import *\n",
    "import pyspark.sql.functions as fn"
   ]
  },
  {
   "cell_type": "code",
   "execution_count": 2,
   "id": "c7652cf1",
   "metadata": {},
   "outputs": [],
   "source": [
    "spark=SparkSession.Builder().master(\"local[2]\").getOrCreate()    # 创建spark实例对象\n",
    "sc = spark.sparkContext"
   ]
  },
  {
   "cell_type": "markdown",
   "id": "2ff610f8",
   "metadata": {},
   "source": [
    "# 数据导入"
   ]
  },
  {
   "cell_type": "code",
   "execution_count": 3,
   "id": "50ca82aa",
   "metadata": {},
   "outputs": [
    {
     "name": "stdout",
     "output_type": "stream",
     "text": [
      "+----------------------------------------------------------+----+----+----+-------+----+------------+----------+---------------+------+------+-------------+----------+-----+\n",
      "|标题                                                      |室数|厅数|卫数|面积   |朝向|楼层数      |建造时间  |小区           |行政区|街道  |门牌号       |单价      |总价 |\n",
      "+----------------------------------------------------------+----+----+----+-------+----+------------+----------+---------------+------+------+-------------+----------+-----+\n",
      "|正南 3室2厅 精装修                                        |3   |2   |2   |97.28㎡|南  |低层(共45层)|2019年建造|保利新武昌     |洪山  |白沙洲|张家湾路8号  |17270元/㎡|168万|\n",
      "|急卖科普公园大华铂金郦府 纯商品房南北通透 自住装修随时看房|2   |2   |1   |88.79㎡|南北|低层(共34层)|2018年建造|大华铂金郦府   |青山  |余家头|旅大街21号   |18584元/㎡|165万|\n",
      "|汉阳琴台大道江景住宅 3室2厅2卫 102m 约199万               |3   |2   |2   |102㎡  |南  |null        |null      |新世界汉江·云赫|硚口  |古田  |知音大道588号|19510元/㎡|199万|\n",
      "+----------------------------------------------------------+----+----+----+-------+----+------------+----------+---------------+------+------+-------------+----------+-----+\n",
      "only showing top 3 rows\n",
      "\n",
      "root\n",
      " |-- 标题: string (nullable = true)\n",
      " |-- 室数: string (nullable = true)\n",
      " |-- 厅数: string (nullable = true)\n",
      " |-- 卫数: string (nullable = true)\n",
      " |-- 面积: string (nullable = true)\n",
      " |-- 朝向: string (nullable = true)\n",
      " |-- 楼层数: string (nullable = true)\n",
      " |-- 建造时间: string (nullable = true)\n",
      " |-- 小区: string (nullable = true)\n",
      " |-- 行政区: string (nullable = true)\n",
      " |-- 街道: string (nullable = true)\n",
      " |-- 门牌号: string (nullable = true)\n",
      " |-- 单价: string (nullable = true)\n",
      " |-- 总价: string (nullable = true)\n",
      "\n"
     ]
    },
    {
     "data": {
      "text/plain": [
       "22680"
      ]
     },
     "execution_count": 3,
     "metadata": {},
     "output_type": "execute_result"
    }
   ],
   "source": [
    "# 读取CSV文件\n",
    "# data=spark.read.csv(\"./data/武汉二手房.csv\",schema=data_schema,header=True,encoding='gbk')  \n",
    "data=spark.read.csv(\"./data/武汉二手房.csv\",header=True,encoding='gbk')  \n",
    "data.show(3,truncate=False)                  # truncate=False表示显示 PySpark 数据框的全列内容\n",
    "data.printSchema()                           # 打印数据结构信息\n",
    "data.count()"
   ]
  },
  {
   "cell_type": "markdown",
   "id": "dd46d2f0",
   "metadata": {},
   "source": [
    "# 数据清洗"
   ]
  },
  {
   "cell_type": "markdown",
   "id": "81b8e3bc",
   "metadata": {},
   "source": [
    "## 重复值处理"
   ]
  },
  {
   "cell_type": "code",
   "execution_count": 4,
   "id": "085671af",
   "metadata": {},
   "outputs": [
    {
     "data": {
      "text/plain": [
       "752"
      ]
     },
     "execution_count": 4,
     "metadata": {},
     "output_type": "execute_result"
    }
   ],
   "source": [
    "data = data.dropDuplicates()                 # 去除重复行\n",
    "data.count()                                 # 由于存在大量的重复挂牌销售数据，所以在去重后整体数据量并不大"
   ]
  },
  {
   "cell_type": "markdown",
   "id": "e93c93fd",
   "metadata": {},
   "source": [
    "在房屋销售中存在大量的重复挂牌销售数据，所以在去重后整体数据量并不大。这样的数据量实际上仅使用panda、numpy与sklearn工具，就可以实现上述问题的分析。\n",
    "但是考虑到本文的初衷是pysark的使用实战，所以我们仍旧使用这一数据，但是还是基于pyspark进行数据分析。"
   ]
  },
  {
   "cell_type": "markdown",
   "id": "0d01c7b3",
   "metadata": {},
   "source": [
    "## 数据格式转换\n",
    "\n",
    "substring_index(str,delim,count):\n",
    "    \n",
    "    在分隔符 delim 出现计数之前从字符串 str 返回子字符串。 如果计数为正，则最终分隔符左侧的所有内容（从左开始计数）均为 返回。如果计数为负数，则最终分隔符右侧的每个（从右）返回。\n",
    "    \n",
    "substring(str,pos,len):\n",
    "    \n",
    "    子字符串从 pos 开始，当 str 是字符串类型或 返回字节数组的切片，该数组从字节中的 POS 开始，当 str 为二进制类型时长度为 len。"
   ]
  },
  {
   "cell_type": "code",
   "execution_count": 5,
   "id": "dfb55272",
   "metadata": {},
   "outputs": [],
   "source": [
    "data=data.withColumn(\"面积\",fn.substring_index(data[\"面积\"],'㎡', 1))                 # 面积：去单位\n",
    "data=data.withColumn(\"单价\",fn.substring_index(data[\"单价\"],'元/㎡', 1))              # 单价：去单位\n",
    "data=data.withColumn(\"总价\",fn.substring_index(data[\"总价\"],'万', 1))                 # 总价：去单位\n",
    "data=data.withColumn(\"建造时间\",fn.substring(data[\"建造时间\"],0,4))                   # 建造时间：去后缀\n",
    "data=data.withColumn(\"楼层所属区域\",fn.substring(data[\"楼层数\"],0,2))                 # 楼层所属区域：提取数据\n",
    "data=data.drop(\"楼层数\")                                                              # 删除信息重复列"
   ]
  },
  {
   "cell_type": "code",
   "execution_count": 6,
   "id": "35140113",
   "metadata": {},
   "outputs": [
    {
     "name": "stdout",
     "output_type": "stream",
     "text": [
      "+-------------------------------------+----+----+----+------+----+--------+----------+------+------+-------------+-----+----+------------+\n",
      "|                                 标题|室数|厅数|卫数|  面积|朝向|建造时间|      小区|行政区|  街道|       门牌号| 单价|总价|楼层所属区域|\n",
      "+-------------------------------------+----+----+----+------+----+--------+----------+------+------+-------------+-----+----+------------+\n",
      "|      劲爆价 直降50万 捡漏 好楼层 ...|   3|   2|   1|129.13|  南|    2007|  汉口春天|  硚口|  古田|解放大道109号|12236| 158|        中层|\n",
      "|   急卖单价低 仁和路 星桥苑 金科城...|   2|   2|   1|100.11|南北|    2001|星桥苑小区|  洪山|欢乐谷|友谊大道988号|11987| 120|        中层|\n",
      "|八号线地铁口文昌路站旁珞珈雅苑精装...|   2|   2|   1| 89.41|南北|    2014|  珞珈雅苑|  洪山|新南湖|  书城路369号|16665| 149|        高层|\n",
      "+-------------------------------------+----+----+----+------+----+--------+----------+------+------+-------------+-----+----+------------+\n",
      "only showing top 3 rows\n",
      "\n"
     ]
    }
   ],
   "source": [
    "data.show(3)"
   ]
  },
  {
   "cell_type": "code",
   "execution_count": 7,
   "id": "2d2c47b9",
   "metadata": {},
   "outputs": [
    {
     "name": "stdout",
     "output_type": "stream",
     "text": [
      "root\n",
      " |-- 标题: string (nullable = true)\n",
      " |-- 室数: string (nullable = true)\n",
      " |-- 厅数: string (nullable = true)\n",
      " |-- 卫数: string (nullable = true)\n",
      " |-- 面积: string (nullable = true)\n",
      " |-- 朝向: string (nullable = true)\n",
      " |-- 建造时间: string (nullable = true)\n",
      " |-- 小区: string (nullable = true)\n",
      " |-- 行政区: string (nullable = true)\n",
      " |-- 街道: string (nullable = true)\n",
      " |-- 门牌号: string (nullable = true)\n",
      " |-- 单价: string (nullable = true)\n",
      " |-- 总价: string (nullable = true)\n",
      " |-- 楼层所属区域: string (nullable = true)\n",
      "\n"
     ]
    }
   ],
   "source": [
    "data.printSchema()                           # 打印数据结构信息"
   ]
  },
  {
   "cell_type": "markdown",
   "id": "2ea77fa4",
   "metadata": {},
   "source": [
    "## 缺失值处理"
   ]
  },
  {
   "cell_type": "code",
   "execution_count": 8,
   "id": "597d553c",
   "metadata": {},
   "outputs": [
    {
     "name": "stdout",
     "output_type": "stream",
     "text": [
      "-RECORD 0-------------------------------------\n",
      " 标题miss_rate         | 0.0                  \n",
      " 室数miss_rate         | 0.0                  \n",
      " 厅数miss_rate         | 0.0                  \n",
      " 卫数miss_rate         | 0.0                  \n",
      " 面积miss_rate         | 0.0                  \n",
      " 朝向miss_rate         | 0.0                  \n",
      " 建造时间miss_rate     | 0.039893617021276584 \n",
      " 小区miss_rate         | 0.0                  \n",
      " 行政区miss_rate       | 0.0                  \n",
      " 街道miss_rate         | 0.0                  \n",
      " 门牌号miss_rate       | 0.0                  \n",
      " 单价miss_rate         | 0.0                  \n",
      " 总价miss_rate         | 0.0                  \n",
      " 楼层所属区域miss_rate | 0.039893617021276584 \n",
      "\n"
     ]
    }
   ],
   "source": [
    "# 查看缺失值占比\n",
    "data.agg(*[(1- (fn.count(c)/ fn.count('*'))).alias(c + 'miss_rate') for c in data.columns]).show(vertical=True)\n",
    "# count('*') 表示统计列的所有行数  \n",
    "# agg(*[]) 将该列表作为一组独立的参数传递给函数，可以理解为*arg"
   ]
  },
  {
   "cell_type": "code",
   "execution_count": 9,
   "id": "2cb2fa4e",
   "metadata": {},
   "outputs": [
    {
     "name": "stdout",
     "output_type": "stream",
     "text": [
      "-RECORD 0-------------------\n",
      " 标题miss_num         | 0   \n",
      " 室数miss_num         | 0   \n",
      " 厅数miss_num         | 0   \n",
      " 卫数miss_num         | 0   \n",
      " 面积miss_num         | 0   \n",
      " 朝向miss_num         | 0   \n",
      " 建造时间miss_num     | 30  \n",
      " 小区miss_num         | 0   \n",
      " 行政区miss_num       | 0   \n",
      " 街道miss_num         | 0   \n",
      " 门牌号miss_num       | 0   \n",
      " 单价miss_num         | 0   \n",
      " 总价miss_num         | 0   \n",
      " 楼层所属区域miss_num | 30  \n",
      "\n"
     ]
    }
   ],
   "source": [
    "# 查看缺失值个数\n",
    "data.agg(*[(fn.count('*')-fn.count(c)).alias(c + 'miss_num') for c in data.columns]).show(vertical=True)"
   ]
  },
  {
   "cell_type": "markdown",
   "id": "cfcb0815",
   "metadata": {},
   "source": [
    "通过查询发现，在本文数据中仅有楼层所属区域、建造时间两个变量中存在少量的缺失值，缺失值占比为3.99%，可以考虑删除缺失值。但是在实际分析中考虑到去重之后数据量本身并不大(仅有752条)，所以我们这里对缺失值进行插值补齐。\n",
    "\n",
    "    对于数值型变量建造时间，基于平均数进行插值；\n",
    "    对于分类型变量所在楼层利用众数进行插值。"
   ]
  },
  {
   "cell_type": "code",
   "execution_count": 10,
   "id": "26a1356e",
   "metadata": {},
   "outputs": [
    {
     "name": "stdout",
     "output_type": "stream",
     "text": [
      "+------------+-----+\n",
      "|楼层所属区域|count|\n",
      "+------------+-----+\n",
      "|        高层|  281|\n",
      "|        低层|  227|\n",
      "|        中层|  206|\n",
      "|        null|   30|\n",
      "|         共5|    4|\n",
      "|         共1|    4|\n",
      "+------------+-----+\n",
      "\n"
     ]
    }
   ],
   "source": [
    "# 楼层所属区域频数统计\n",
    "data.groupby(\"楼层所属区域\").count().sort(\"count\",ascending=False).show()              \n",
    "# 楼层所属区域的众数是高层"
   ]
  },
  {
   "cell_type": "code",
   "execution_count": 11,
   "id": "b148d64f",
   "metadata": {},
   "outputs": [],
   "source": [
    "# 缺失值填充\n",
    "year_mean=int(round(data.select(fn.mean('建造时间')).collect()[0][0],0))       # 建造时间的均值\n",
    "floor_mode=\"高层\"\n",
    "data=data.fillna({'建造时间':year_mean,'楼层所属区域':floor_mode})"
   ]
  },
  {
   "cell_type": "code",
   "execution_count": 12,
   "id": "e3896942",
   "metadata": {},
   "outputs": [
    {
     "name": "stdout",
     "output_type": "stream",
     "text": [
      "+-------------------------------------+----+----+----+------+----+--------+----------+------+------+-------------+-----+----+------------+\n",
      "|                                 标题|室数|厅数|卫数|  面积|朝向|建造时间|      小区|行政区|  街道|       门牌号| 单价|总价|楼层所属区域|\n",
      "+-------------------------------------+----+----+----+------+----+--------+----------+------+------+-------------+-----+----+------------+\n",
      "|      劲爆价 直降50万 捡漏 好楼层 ...|   3|   2|   1|129.13|  南|    2007|  汉口春天|  硚口|  古田|解放大道109号|12236| 158|        中层|\n",
      "|   急卖单价低 仁和路 星桥苑 金科城...|   2|   2|   1|100.11|南北|    2001|星桥苑小区|  洪山|欢乐谷|友谊大道988号|11987| 120|        中层|\n",
      "|八号线地铁口文昌路站旁珞珈雅苑精装...|   2|   2|   1| 89.41|南北|    2014|  珞珈雅苑|  洪山|新南湖|  书城路369号|16665| 149|        高层|\n",
      "+-------------------------------------+----+----+----+------+----+--------+----------+------+------+-------------+-----+----+------------+\n",
      "only showing top 3 rows\n",
      "\n"
     ]
    }
   ],
   "source": [
    "data.show(3)"
   ]
  },
  {
   "cell_type": "markdown",
   "id": "4b93e0d3",
   "metadata": {},
   "source": [
    "## 数据保存\n",
    "\n",
    "将清洗后的数据导出保存"
   ]
  },
  {
   "cell_type": "code",
   "execution_count": 13,
   "id": "b09b67a2",
   "metadata": {},
   "outputs": [],
   "source": [
    "data.write.csv('./data/data.csv', header=True)        # 如果文件已经存在，会报错"
   ]
  },
  {
   "cell_type": "code",
   "execution_count": null,
   "id": "b3a698b9",
   "metadata": {},
   "outputs": [],
   "source": []
  },
  {
   "cell_type": "code",
   "execution_count": null,
   "id": "e570ddf5",
   "metadata": {},
   "outputs": [],
   "source": []
  }
 ],
 "metadata": {
  "kernelspec": {
   "display_name": "spark_env",
   "language": "python",
   "name": "spark_env"
  },
  "language_info": {
   "codemirror_mode": {
    "name": "ipython",
    "version": 3
   },
   "file_extension": ".py",
   "mimetype": "text/x-python",
   "name": "python",
   "nbconvert_exporter": "python",
   "pygments_lexer": "ipython3",
   "version": "3.8.8"
  },
  "toc": {
   "base_numbering": 1,
   "nav_menu": {},
   "number_sections": true,
   "sideBar": true,
   "skip_h1_title": false,
   "title_cell": "Table of Contents",
   "title_sidebar": "Contents",
   "toc_cell": false,
   "toc_position": {
    "height": "601px",
    "left": "29px",
    "top": "111.141px",
    "width": "177px"
   },
   "toc_section_display": true,
   "toc_window_display": true
  }
 },
 "nbformat": 4,
 "nbformat_minor": 5
}
